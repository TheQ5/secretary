{
 "cells": [
  {
   "cell_type": "code",
   "execution_count": 1,
   "metadata": {},
   "outputs": [],
   "source": [
    "\"\"\"\n",
    "\n",
    "啟用伺服器基本樣板\n",
    "\n",
    "\"\"\"\n",
    "\n",
    "# 引用Web Server套件\n",
    "from flask import Flask, request, abort\n",
    "\n",
    "# 從linebot 套件包裡引用 LineBotApi 與 WebhookHandler 類別\n",
    "from linebot import (\n",
    "    LineBotApi, WebhookHandler\n",
    ")\n",
    "\n",
    "# 引用無效簽章錯誤\n",
    "from linebot.exceptions import (\n",
    "    InvalidSignatureError\n",
    ")\n",
    "\n",
    "# 載入json處理套件\n",
    "import json\n",
    "\n",
    "# 載入基礎設定檔\n",
    "secretFileContentJson=json.load(open(\"./line_secret_key\",'r'))\n",
    "server_url=secretFileContentJson.get(\"server_url\")\n",
    "\n",
    "# 設定Server啟用細節\n",
    "app = Flask(__name__,static_url_path = \"/images\" , static_folder = \"./images/\")\n",
    "\n",
    "# 生成實體物件\n",
    "line_bot_api = LineBotApi(secretFileContentJson.get(\"channel_access_token\"))\n",
    "handler = WebhookHandler(secretFileContentJson.get(\"secret_key\"))\n",
    "\n",
    "# 啟動server對外接口，使Line能丟消息進來\n",
    "@app.route(\"/\", methods=['POST'])\n",
    "def callback():\n",
    "    # get X-Line-Signature header value\n",
    "    signature = request.headers['X-Line-Signature']\n",
    "\n",
    "    # get request body as text\n",
    "    body = request.get_data(as_text=True)\n",
    "    app.logger.info(\"Request body: \" + body)\n",
    "\n",
    "    # handle webhook body\n",
    "    try:\n",
    "        handler.handle(body, signature)\n",
    "    except InvalidSignatureError:\n",
    "        abort(400)\n",
    "\n",
    "    return 'OK'"
   ]
  },
  {
   "cell_type": "code",
   "execution_count": 2,
   "metadata": {},
   "outputs": [],
   "source": [
    "menuRawData=\"\"\"\n",
    "{\n",
    "  \"size\": {\n",
    "    \"width\": 2500,\n",
    "    \"height\": 1686\n",
    "  },\n",
    "  \"selected\": true,\n",
    "  \"name\": \"圖文選單 1\",\n",
    "  \"chatBarText\": \"查看更多資訊\",\n",
    "  \"areas\": [\n",
    "    {\n",
    "      \"bounds\": {\n",
    "        \"x\": 8,\n",
    "        \"y\": 4,\n",
    "        \"width\": 1234,\n",
    "        \"height\": 831\n",
    "      },\n",
    "      \"action\": {\n",
    "        \"type\": \"message\",\n",
    "        \"text\": \"我想更認識你\"\n",
    "      }\n",
    "    },\n",
    "    {\n",
    "      \"bounds\": {\n",
    "        \"x\": 8,\n",
    "        \"y\": 852,\n",
    "        \"width\": 1234,\n",
    "        \"height\": 826\n",
    "      },\n",
    "      \"action\": {\n",
    "        \"type\": \"message\",\n",
    "        \"text\": \"讓我看看你的點點滴滴\"\n",
    "      }\n",
    "    },\n",
    "    {\n",
    "      \"bounds\": {\n",
    "        \"x\": 1263,\n",
    "        \"y\": 8,\n",
    "        \"width\": 1229,\n",
    "        \"height\": 827\n",
    "      },\n",
    "      \"action\": {\n",
    "        \"type\": \"message\",\n",
    "        \"text\": \"校園經歷精彩嗎\"\n",
    "      }\n",
    "    },\n",
    "    {\n",
    "      \"bounds\": {\n",
    "        \"x\": 1263,\n",
    "        \"y\": 856,\n",
    "        \"width\": 1229,\n",
    "        \"height\": 822\n",
    "      },\n",
    "      \"action\": {\n",
    "        \"type\": \"message\",\n",
    "        \"text\": \"太神拉\"\n",
    "      }\n",
    "    }\n",
    "  ]\n",
    "}\n",
    "\"\"\""
   ]
  },
  {
   "cell_type": "code",
   "execution_count": 3,
   "metadata": {},
   "outputs": [
    {
     "name": "stdout",
     "output_type": "stream",
     "text": [
      "BG+HZ2BI4laibJcTO2kie46l/LulEzfdwaBSQ4mvt81OkOrTA3gj5MUzl5wmkVrVtv6ptROH+JMPfdHHcTrGyOfAcmRukoYa4C/1zMf1Ce8+ejdS9bUwKfUESBS4aVb5DCo8N2+NquHvnkxCKlTwEQdB04t89/1O/w1cDnyilFU=\n",
      "00335a496a54045ab220318d12e3ad8d\n",
      "U526e4526e2a46e2f815b080d6fd4ac56\n"
     ]
    }
   ],
   "source": [
    "import json\n",
    "secretFileContentJson=json.load(open(\"./line_secret_key\",'r'))\n",
    "\n",
    "print(secretFileContentJson.get(\"channel_access_token\"))\n",
    "print(secretFileContentJson.get(\"secret_key\"))\n",
    "print(secretFileContentJson.get(\"self_user_id\"))"
   ]
  },
  {
   "cell_type": "code",
   "execution_count": 4,
   "metadata": {},
   "outputs": [
    {
     "name": "stdout",
     "output_type": "stream",
     "text": [
      "<Response [200]>\n",
      "{\"richMenuId\":\"richmenu-c38adb1ec6dcdc30486e0c3cb04869ab\"}\n"
     ]
    }
   ],
   "source": [
    "import requests\n",
    "\n",
    "menuJson=json.loads(menuRawData)\n",
    "\n",
    "createMenuEndpoint = 'https://api.line.me/v2/bot/richmenu'\n",
    "createMenuRequestHeader={'Content-Type':'application/json','Authorization':'Bearer %s' % secretFileContentJson[\"channel_access_token\"]}\n",
    "\n",
    "#print(createMenuRequestHeader)\n",
    "\n",
    "lineCreateMenuResponse = requests.post(createMenuEndpoint,headers=createMenuRequestHeader,data=json.dumps(menuJson))\n",
    "\n",
    "print(lineCreateMenuResponse)\n",
    "print(lineCreateMenuResponse.text)"
   ]
  },
  {
   "cell_type": "code",
   "execution_count": 5,
   "metadata": {},
   "outputs": [
    {
     "name": "stdout",
     "output_type": "stream",
     "text": [
      "richmenu-c38adb1ec6dcdc30486e0c3cb04869ab\n",
      "https://api.line.me/v2/bot/richmenu/richmenu-c38adb1ec6dcdc30486e0c3cb04869ab/content\n",
      "<Response [200]>\n",
      "{}\n"
     ]
    }
   ],
   "source": [
    "# 取得菜單Id \n",
    "uploadRichMenuId=json.loads(lineCreateMenuResponse.text).get(\"richMenuId\")\n",
    "print(uploadRichMenuId)\n",
    "#'https://api.line.me/v2/bot/richmenu/{richMenuId}/content'\n",
    "\n",
    "# 設定Line的遠端位置\n",
    "uploadMenuEndpoint='https://api.line.me/v2/bot/richmenu/%s/content' % uploadRichMenuId\n",
    "print(uploadMenuEndpoint)\n",
    "\n",
    "# 設定消息的基本安全憑證\n",
    "uploadMenuRequestHeader={'Content-Type':'image/jpeg','Authorization':'Bearer %s' % secretFileContentJson[\"channel_access_token\"]}\n",
    "\n",
    "# 上傳照片\n",
    "uploadImageFile=open(\"./images/richmenu.jpg\",'rb')\n",
    "lineUploadMenuResponse=requests.post(uploadMenuEndpoint,headers=uploadMenuRequestHeader,data=uploadImageFile)\n",
    "\n",
    "print(lineUploadMenuResponse)\n",
    "print(lineUploadMenuResponse.text)"
   ]
  },
  {
   "cell_type": "code",
   "execution_count": 6,
   "metadata": {},
   "outputs": [
    {
     "name": "stdout",
     "output_type": "stream",
     "text": [
      "https://api.line.me/v2/bot/user/U526e4526e2a46e2f815b080d6fd4ac56/richmenu/richmenu-c38adb1ec6dcdc30486e0c3cb04869ab\n",
      "<Response [200]>\n",
      "{}\n"
     ]
    }
   ],
   "source": [
    "# 取得菜單id\n",
    "linkRichMenuId=json.loads(lineCreateMenuResponse.text).get(\"richMenuId\")\n",
    "\n",
    "# 將菜單id與用戶id組合成遠端位置\n",
    "linkMenuEndpoint='https://api.line.me/v2/bot/user/%s/richmenu/%s' % (secretFileContentJson[\"self_user_id\"], linkRichMenuId)\n",
    "print(linkMenuEndpoint)\n",
    "\n",
    "# 設定消息基本安全憑證\n",
    "linkMenuRequestHeader={'Content-Type':'image/jpeg','Authorization':'Bearer %s' % secretFileContentJson[\"channel_access_token\"]}\n",
    "\n",
    "# 發送消息\n",
    "lineLinkMenuResponse=requests.post(linkMenuEndpoint,headers=linkMenuRequestHeader)\n",
    "print(lineLinkMenuResponse)\n",
    "print(lineLinkMenuResponse.text)"
   ]
  },
  {
   "cell_type": "code",
   "execution_count": 7,
   "metadata": {},
   "outputs": [
    {
     "name": "stdout",
     "output_type": "stream",
     "text": [
      "https://api.line.me/v2/bot/user/U526e4526e2a46e2f815b080d6fd4ac56/richmenu\n",
      "<Response [200]>\n",
      "{\"richMenuId\":\"richmenu-c38adb1ec6dcdc30486e0c3cb04869ab\"}\n"
     ]
    }
   ],
   "source": [
    "# 取出用戶id，設定Line的遠端位置\n",
    "userMenuEndpoint='https://api.line.me/v2/bot/user/%s/richmenu' % (secretFileContentJson[\"self_user_id\"])\n",
    "print(userMenuEndpoint)\n",
    "\n",
    "# 設定消息的基本安全憑證\n",
    "userMenuRequestHeader={'Authorization':'Bearer %s' % secretFileContentJson[\"channel_access_token\"]}\n",
    "\n",
    "# 發送消息告知\n",
    "lineUserMenuResponse=requests.get(userMenuEndpoint,headers=userMenuRequestHeader)\n",
    "print(lineUserMenuResponse)\n",
    "print(lineUserMenuResponse.text)"
   ]
  },
  {
   "cell_type": "code",
   "execution_count": 8,
   "metadata": {},
   "outputs": [],
   "source": [
    "'''\n",
    "\n",
    "製作文字與圖片的教學訊息\n",
    "\n",
    "'''\n",
    "# 將消息模型，文字收取消息與文字寄發消息 引入\n",
    "from linebot.models import (\n",
    "    MessageEvent, TextMessage, TextSendMessage, ImageSendMessage\n",
    ")\n",
    "\n",
    "# 消息清單\n",
    "reply_message_list = [\n",
    "TextSendMessage(text=\"您好，我是小秘書，在這裡我能幫您介紹煜晉這位好青年，除此之外，我也可以回答您的小問題，當您需要我的幫助時，請盡量開口\"),\n",
    "\n",
    "]"
   ]
  },
  {
   "cell_type": "code",
   "execution_count": 9,
   "metadata": {},
   "outputs": [],
   "source": [
    "'''\n",
    "\n",
    "撰寫用戶關注時，我們要處理的商業邏輯\n",
    "\n",
    "1. 取得用戶個資，並存回伺服器\n",
    "2. 把先前製作好的自定義菜單，與用戶做綁定\n",
    "3. 回應用戶，歡迎用的文字消息與圖片消息\n",
    "\n",
    "'''\n",
    "\n",
    "\n",
    "# 載入Follow事件\n",
    "from linebot.models.events import (\n",
    "    FollowEvent\n",
    ")\n",
    "\n",
    "# 載入requests套件\n",
    "import requests\n",
    "\n",
    "\n",
    "# 告知handler，如果收到FollowEvent，則做下面的方法處理\n",
    "@handler.add(FollowEvent)\n",
    "def reply_text_and_get_user_profile(event):\n",
    "    \n",
    "    # 取出消息內User的資料\n",
    "    user_profile = line_bot_api.get_profile(event.source.user_id)\n",
    "        \n",
    "     # 將用戶資訊存在檔案內\n",
    "    with open(\"./users.txt\", \"a\") as myfile:\n",
    "        myfile.write(json.dumps(vars(user_profile),sort_keys=True))\n",
    "        myfile.write('\\r\\n')\n",
    "        \n",
    "        \n",
    "    # 將菜單綁定在用戶身上\n",
    "    linkRichMenuId=secretFileContentJson.get(\"rich_menu_id\")\n",
    "    linkMenuEndpoint='https://api.line.me/v2/bot/user/%s/richmenu/%s' % (event.source.user_id, linkRichMenuId)\n",
    "    linkMenuRequestHeader={'Content-Type':'image/jpeg','Authorization':'Bearer %s' % secretFileContentJson[\"channel_access_token\"]}\n",
    "    lineLinkMenuResponse=requests.post(linkMenuEndpoint,headers=linkMenuRequestHeader)\n",
    "    \n",
    "    # 回覆文字消息與圖片消息\n",
    "    line_bot_api.reply_message(\n",
    "        event.reply_token,\n",
    "        reply_message_list\n",
    "    )"
   ]
  },
  {
   "cell_type": "code",
   "execution_count": null,
   "metadata": {},
   "outputs": [],
   "source": []
  },
  {
   "cell_type": "code",
   "execution_count": 10,
   "metadata": {},
   "outputs": [],
   "source": [
    "#引入所需要的消息與模板消息\n",
    "from linebot.models import (\n",
    "    MessageEvent, TemplateSendMessage , PostbackEvent\n",
    ")\n",
    "\n",
    "#引入按鍵模板\n",
    "from linebot.models.template import(\n",
    "    ButtonsTemplate\n",
    ")\n",
    "\n",
    "\n",
    "'''\n",
    "alt_text: Line簡覽視窗所出現的說明文字\n",
    "template: 所使用的模板\n",
    "ButtonsTemplate: 按鍵模板\n",
    "    thumbnail_image_url: 展示圖片\n",
    "    title: 標題\n",
    "    text: 說明文字\n",
    "    actions: 模板行為所使用的行為\n",
    "    data: 觸發postback後用戶回傳值，可以對其做商業邏輯處理\n",
    "\n",
    "'''\n",
    "buttons_template_message = TemplateSendMessage(\n",
    "    alt_text='Buttons template',\n",
    "    template=ButtonsTemplate(\n",
    "        title='更多幫助',\n",
    "        text='請點擊下方按鈕獲得更多幫助',\n",
    "        actions=[\n",
    "          {\n",
    "            \"type\": \"postback\",\n",
    "            \"label\": \"企業，查找商業結合方案\",\n",
    "            \"text\": \"[::text:]尋找BD\",\n",
    "            \"data\": \"Data1\"\n",
    "          },\n",
    "          {\n",
    "            \"type\": \"postback\",\n",
    "            \"label\": \"開發者，尋求教學\",\n",
    "            \"text\": \"[::text:]求助專家\",\n",
    "            \"data\": \"Data2\"\n",
    "          }\n",
    "        ],\n",
    ")\n",
    ")"
   ]
  },
  {
   "cell_type": "code",
   "execution_count": 11,
   "metadata": {},
   "outputs": [],
   "source": [
    "template_message_dict = {\n",
    "    \"[::text:]more\":buttons_template_message\n",
    "}"
   ]
  },
  {
   "cell_type": "code",
   "execution_count": 12,
   "metadata": {},
   "outputs": [],
   "source": [
    "from linebot.models import (\n",
    "    MessageEvent, TextMessage, TextSendMessage\n",
    ")\n",
    "@handler.add(MessageEvent, message=TextMessage)\n",
    "def handle_text_message(event):\n",
    "    line_bot_api.reply_message(\n",
    "        event.reply_token,\n",
    "        TextSendMessage(\"您好，輸入\\\"/help\\\"取得更多資訊\")\n",
    "    )"
   ]
  },
  {
   "cell_type": "code",
   "execution_count": null,
   "metadata": {
    "scrolled": true
   },
   "outputs": [
    {
     "name": "stdout",
     "output_type": "stream",
     "text": [
      " * Serving Flask app \"__main__\" (lazy loading)\n",
      " * Environment: production\n",
      "   WARNING: This is a development server. Do not use it in a production deployment.\n",
      "   Use a production WSGI server instead.\n",
      " * Debug mode: off\n"
     ]
    },
    {
     "name": "stderr",
     "output_type": "stream",
     "text": [
      " * Running on http://127.0.0.1:5000/ (Press CTRL+C to quit)\n",
      "127.0.0.1 - - [26/Sep/2019 23:40:40] \"POST / HTTP/1.1\" 200 -\n"
     ]
    }
   ],
   "source": [
    "app.run()"
   ]
  },
  {
   "cell_type": "code",
   "execution_count": null,
   "metadata": {},
   "outputs": [],
   "source": []
  }
 ],
 "metadata": {
  "kernelspec": {
   "display_name": "Python 3",
   "language": "python",
   "name": "python3"
  },
  "language_info": {
   "codemirror_mode": {
    "name": "ipython",
    "version": 3
   },
   "file_extension": ".py",
   "mimetype": "text/x-python",
   "name": "python",
   "nbconvert_exporter": "python",
   "pygments_lexer": "ipython3",
   "version": "3.7.4"
  }
 },
 "nbformat": 4,
 "nbformat_minor": 2
}
